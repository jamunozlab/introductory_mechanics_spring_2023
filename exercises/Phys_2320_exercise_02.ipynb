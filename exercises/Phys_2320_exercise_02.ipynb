{
  "nbformat": 4,
  "nbformat_minor": 0,
  "metadata": {
    "colab": {
      "provenance": [],
      "include_colab_link": true
    },
    "kernelspec": {
      "name": "python3",
      "display_name": "Python 3"
    },
    "language_info": {
      "name": "python"
    }
  },
  "cells": [
    {
      "cell_type": "markdown",
      "metadata": {
        "id": "view-in-github",
        "colab_type": "text"
      },
      "source": [
        "<a href=\"https://colab.research.google.com/github/jamunozlab/introductory_mechanics_spring_2023/blob/main/exercises/Phys_2320_exercise_02.ipynb\" target=\"_parent\"><img src=\"https://colab.research.google.com/assets/colab-badge.svg\" alt=\"Open In Colab\"/></a>"
      ]
    },
    {
      "cell_type": "markdown",
      "source": [
        "# Introduction\n",
        "\n",
        "In lecture we went over Python functions and Python 'for' loops. That notebook is [here](https://github.com/jamunozlab/introductory_mechanics_fall_2022/blob/main/lecture_notebooks/Ph_2320_W2L4.ipynb). We also talked a little bit about plotting using pandas, lists, and how you can select elements from a list. That notebook is [here](https://github.com/jamunozlab/introductory_mechanics_fall_2022/blob/main/lecture_notebooks/Ph_2320_W1L2.ipynb).\n",
        "\n",
        "For the exercises below, you do not need anything else other than what we have seen during the lecture and in previous exercises. Nevertheless, if you want to learn more about functions, I recommend [this video](https://youtu.be/u-OmVr_fT4s). It goes into concepts that are more advanced than what we will use in this class, but is thorough. The first 12 minutes cover about what we covered in the lecture. \n",
        "\n",
        "Evaluate the cells below, you should find the code familiar. \n",
        "\n",
        "Then work on the exercises for this week. "
      ],
      "metadata": {
        "id": "YDeYc6iK2T32"
      }
    },
    {
      "cell_type": "code",
      "source": [
        "# We will be using \"Pandas\" again to plot our data\n",
        "\n",
        "import pandas as pd\n",
        "\n",
        "# // Header file imported as 'pd'"
      ],
      "metadata": {
        "id": "KxIyXh5mEzC5"
      },
      "execution_count": null,
      "outputs": []
    },
    {
      "cell_type": "code",
      "execution_count": null,
      "metadata": {
        "id": "bOl_8w3P19MC"
      },
      "outputs": [],
      "source": [
        "# Displacement is the \"change in position\", and it is a vector\n",
        "# usually called Δx (Delta x) in textbooks  \n",
        "\n",
        "def calculate_displacement_old(final_position, initial_position):  \n",
        "  return final_position - initial_position\n",
        "\n",
        "  #// The keyword \"def\" is used to DEFINE A FUNCTION\n",
        "  # The function is then named \"calculate_displacement_old\", and configured to receive the variables \"final_position\" and \"initial_position\".\n",
        "  # Finally, the argument of the function or \"body\" states that it will RETURN the \"Change in Position\" known as DISPLACEMENT.//"
      ]
    },
    {
      "cell_type": "code",
      "source": [
        "# time is a scalar, when you divide a vector by a scalar, you get a vector.\n",
        "# hence, velocity is vector! usually called \"v\" in textbooks.\n",
        "\n",
        "def calculate_velocity_old(displacement, delta_time):  \n",
        "   return displacement / delta_time\n",
        "\n",
        "  #// This example of a user-defined function capable of calculating velocity receives the variables \"displacement\" and \"delta_time\",\n",
        "  # then calculates velocity by dividing the change in position by the change in time, and finally returning the final computed velocity//"
      ],
      "metadata": {
        "id": "0jeDwugD3pWB"
      },
      "execution_count": null,
      "outputs": []
    },
    {
      "cell_type": "code",
      "source": [
        "# We can put a function inside of another one (Nested functions), the function below accomplishes the same goal as the function above, that is;\n",
        "# v = displacement divided by change in time.\n",
        "# THIS IS THE FUNCTION YOU WILL BE USING.\n",
        "\n",
        "def calculate_velocity(final_position, initial_position, final_time, initial_time): \n",
        "  return ( final_position - initial_position ) / ( final_time - initial_time )\n",
        "  \n",
        "   #// Be sure to make yourself familiar with the name of this function, it's input variables, and how it's return function is defined.\n",
        "   # HINT:(Definition of Velocity) //"
      ],
      "metadata": {
        "id": "ob5uzUmk4RvT"
      },
      "execution_count": null,
      "outputs": []
    },
    {
      "cell_type": "code",
      "source": [
        "time =     [0,  1,  2,  3,  4,   5] # Let's say these are seconds\n",
        "position = [0, -2, +4, -6, +8, -10] # Let's say these are meters\n",
        "\n",
        "#// In this code cell we define 2 array variables, each containing 6 elements as we did in Workshop #1 //"
      ],
      "metadata": {
        "id": "4HLuFEgbEKG7"
      },
      "execution_count": null,
      "outputs": []
    },
    {
      "cell_type": "code",
      "source": [
        "# Here, we are utilizing Pandas' functions to graph the data set defined above.\n",
        "# This code cell uses Pandas' pre-defined funtions to output a graphical representation of the data contained in our variables \"time\" and \"position\".\n",
        "\n",
        "pretty_plot = pd.Series(position, index=time) \n",
        "pretty_plot.plot(xlabel='time (seconds)', ylabel='position (meters)', ylim=(-10,10))\n",
        "\n",
        "# // The keyword \"pd.series()\" requires the names of the array variables that we wish to graph.\n",
        "# The keyword \".plot()\" requires that we label both the axes of our graph.//"
      ],
      "metadata": {
        "colab": {
          "base_uri": "https://localhost:8080/",
          "height": 300
        },
        "id": "Ldyvk7-GES5e",
        "outputId": "86df46f7-eca8-4503-b953-65b82e1c55bb"
      },
      "execution_count": null,
      "outputs": [
        {
          "output_type": "execute_result",
          "data": {
            "text/plain": [
              "<matplotlib.axes._subplots.AxesSubplot at 0x7f21dd068610>"
            ]
          },
          "metadata": {},
          "execution_count": 6
        },
        {
          "output_type": "display_data",
          "data": {
            "text/plain": [
              "<Figure size 432x288 with 1 Axes>"
            ],
            "image/png": "[encoded data removed]"
          },
          "metadata": {
            "needs_background": "light"
          }
        }
      ]
    },
    {
      "cell_type": "markdown",
      "source": [
        "# Exercise 1 \n",
        "\n",
        "Below, I catalogued the results of several operations as 'Type I,' 'Type II' and 'Type III.' They use the following data:\n",
        "\n",
        "```\n",
        "time =     [0,  1,  2,  3,  4,   5] # Let's say these are seconds\n",
        "position = [0, -2, +4, -6, +8, -10] # Let's say these are meters\n",
        "```\n",
        "\n",
        "Evalute the cells and note the result. Then follow the directions below and answer the questions.\n",
        "\n",
        "1.   Translate from code to formula and check the results of the code, that is, write down $ \\vec{v} = \\frac{\\Delta \\vec{x}}{\\Delta t} = \\frac{\\vec{x_f} - \\vec{x_0}}{t_f - t_0}$ on a piece of paper, substitute the numerical values, and compute the result to ENSURE THAT THE CODE IS BEHAVING DIRECTLY.\n",
        "2.   What is the difference between the 'Type I,' 'Type II' and 'Type III' operations? How would a hypothetical 'Type IV' operation behave? You can use the code to figure out the behavior of 'Type IV' operations. \n",
        "3.   The equation of a line is typically written in math classes as $ y = mx + b $ where $ m $ is the slope and $b$ is the $y$-intercept. The slope is defined as 'rise' over 'run,' meaning the change in value in the vertical axis divided by the change in value in the horizontal axis. For our data, the vertical axis is position, $\\vec{x}$, and the horizontal axis is time, $t$. Hence, the slope is $\\Delta \\vec{x}$ divided by $\\Delta \\vec{t}$, which is the velocity $ \\vec{v}$. The symbols are different, but there is nothing fundamentally new to learn. What can you say about the slope and the result obtained for 'Type I,' 'Type II' and 'Type III' operations?\n",
        "\n"
      ],
      "metadata": {
        "id": "xlIjLW9wH27a"
      }
    },
    {
      "cell_type": "code",
      "source": [
        "# Type I\n",
        "calculate_velocity(final_position=-2, initial_position=0, final_time=1, initial_time=0)"
      ],
      "metadata": {
        "id": "WE3hPBpEE6h0",
        "colab": {
          "base_uri": "https://localhost:8080/"
        },
        "outputId": "06a0d53d-5970-4c36-b46a-2763f14ed2f1"
      },
      "execution_count": null,
      "outputs": [
        {
          "output_type": "execute_result",
          "data": {
            "text/plain": [
              "-2.0"
            ]
          },
          "metadata": {},
          "execution_count": 7
        }
      ]
    },
    {
      "cell_type": "code",
      "source": [
        "# Type I\n",
        "calculate_velocity(final_position=+4, initial_position=-2, final_time=2, initial_time=1)"
      ],
      "metadata": {
        "id": "3aZ9maDRG4fo",
        "colab": {
          "base_uri": "https://localhost:8080/"
        },
        "outputId": "49677655-9641-42ad-dbaa-41b74e485d00"
      },
      "execution_count": null,
      "outputs": [
        {
          "output_type": "execute_result",
          "data": {
            "text/plain": [
              "6.0"
            ]
          },
          "metadata": {},
          "execution_count": 8
        }
      ]
    },
    {
      "cell_type": "code",
      "source": [
        "# Type I\n",
        "calculate_velocity(final_position=-6, initial_position=+4, final_time=3, initial_time=2)"
      ],
      "metadata": {
        "id": "IwtOSoViHBOr",
        "colab": {
          "base_uri": "https://localhost:8080/"
        },
        "outputId": "c8a8a467-02c6-46b0-dee2-1acc79525f78"
      },
      "execution_count": null,
      "outputs": [
        {
          "output_type": "execute_result",
          "data": {
            "text/plain": [
              "-10.0"
            ]
          },
          "metadata": {},
          "execution_count": 9
        }
      ]
    },
    {
      "cell_type": "code",
      "source": [
        "# Type II\n",
        "calculate_velocity(final_position=+4, initial_position=0, final_time=2, initial_time=0)"
      ],
      "metadata": {
        "id": "hm0p79qvI-m3",
        "colab": {
          "base_uri": "https://localhost:8080/"
        },
        "outputId": "be07a74b-1cf8-40ac-ad4c-a91845c97c9b"
      },
      "execution_count": null,
      "outputs": [
        {
          "output_type": "execute_result",
          "data": {
            "text/plain": [
              "2.0"
            ]
          },
          "metadata": {},
          "execution_count": 10
        }
      ]
    },
    {
      "cell_type": "code",
      "source": [
        "# Type II\n",
        "calculate_velocity(final_position=-6, initial_position=-2, final_time=3, initial_time=1)"
      ],
      "metadata": {
        "id": "XD2vWX6hHyvo",
        "colab": {
          "base_uri": "https://localhost:8080/"
        },
        "outputId": "eac7add1-2728-4d42-c860-cafae210c5f8"
      },
      "execution_count": null,
      "outputs": [
        {
          "output_type": "execute_result",
          "data": {
            "text/plain": [
              "-2.0"
            ]
          },
          "metadata": {},
          "execution_count": 11
        }
      ]
    },
    {
      "cell_type": "code",
      "source": [
        "# Type II\n",
        "calculate_velocity(final_position=+8, initial_position=+4, final_time=4, initial_time=2)"
      ],
      "metadata": {
        "id": "TZ4m8RbRI6lR",
        "colab": {
          "base_uri": "https://localhost:8080/"
        },
        "outputId": "b63fe5a4-2f7e-4361-a295-c1ea0f3ca2ba"
      },
      "execution_count": null,
      "outputs": [
        {
          "output_type": "execute_result",
          "data": {
            "text/plain": [
              "2.0"
            ]
          },
          "metadata": {},
          "execution_count": 12
        }
      ]
    },
    {
      "cell_type": "code",
      "source": [
        "# Type III\n",
        "calculate_velocity(final_position=-6, initial_position=0, final_time=3, initial_time=0)"
      ],
      "metadata": {
        "id": "W35KlbXUKLRs",
        "colab": {
          "base_uri": "https://localhost:8080/"
        },
        "outputId": "3b703de7-6cf2-4a0c-dce0-5319f0e0a1d8"
      },
      "execution_count": null,
      "outputs": [
        {
          "output_type": "execute_result",
          "data": {
            "text/plain": [
              "-2.0"
            ]
          },
          "metadata": {},
          "execution_count": 13
        }
      ]
    },
    {
      "cell_type": "code",
      "source": [
        "# Type III\n",
        "calculate_velocity(final_position=+8, initial_position=-2, final_time=4, initial_time=1)"
      ],
      "metadata": {
        "id": "uZvywmErQexo",
        "colab": {
          "base_uri": "https://localhost:8080/"
        },
        "outputId": "1952bd1a-99d8-4310-bba1-d4279988177a"
      },
      "execution_count": null,
      "outputs": [
        {
          "output_type": "execute_result",
          "data": {
            "text/plain": [
              "3.3333333333333335"
            ]
          },
          "metadata": {},
          "execution_count": 14
        }
      ]
    },
    {
      "cell_type": "code",
      "source": [
        "# Type III\n",
        "calculate_velocity(final_position=-10, initial_position=+4, final_time=5, initial_time=2)"
      ],
      "metadata": {
        "id": "EdyInmkmQfSA",
        "colab": {
          "base_uri": "https://localhost:8080/"
        },
        "outputId": "3b632a4d-492e-441f-a8f4-8e31e9adf6ec"
      },
      "execution_count": null,
      "outputs": [
        {
          "output_type": "execute_result",
          "data": {
            "text/plain": [
              "-4.666666666666667"
            ]
          },
          "metadata": {},
          "execution_count": 15
        }
      ]
    },
    {
      "cell_type": "code",
      "source": [
        "# This keyword will give you a list of N integers starting from zero \n",
        "# for example: n=20\n",
        "\n",
        "range(0, 20)\n",
        "\n",
        "#// The keyword \"range\""
      ],
      "metadata": {
        "id": "EIeZ1T8GSRm2",
        "colab": {
          "base_uri": "https://localhost:8080/"
        },
        "outputId": "8ea38bf3-ba6c-4ec2-ecb3-33105fe55d62"
      },
      "execution_count": null,
      "outputs": [
        {
          "output_type": "execute_result",
          "data": {
            "text/plain": [
              "range(0, 20)"
            ]
          },
          "metadata": {},
          "execution_count": 16
        }
      ]
    },
    {
      "cell_type": "code",
      "source": [
        "# If you want to see the individual numbers, you can use print() and a 'for' loop\n",
        "# Notice that the first number is zero and there are 20 elements as promised\n",
        "# So the last number is 19\n",
        "for number in range(0, 20):\n",
        "  print(number)\n",
        "\n",
        "  # The keyword \"for\" is used to REPEAT A BLOCK OF CODE a known number of times\n",
        "  # The keyword \"in\" is used to INCREMENT A VALUE.\n",
        "  # The keyword \"range()\" is used to generate a list of integers, as explained in the cell above. \n",
        "\n",
        "# // Altogether these 2 lines of code are executed 20 individual times by the compiler; with each prgressive loop the varible \"number\" is incremented by \"1\"\n",
        "# until the EXIT CONDITION specified by \"range(0,20)\" is met. //"
      ],
      "metadata": {
        "id": "yhiAWAOKYKJ5",
        "colab": {
          "base_uri": "https://localhost:8080/"
        },
        "outputId": "90931f5b-dce0-4013-8517-a84277b89e96"
      },
      "execution_count": null,
      "outputs": [
        {
          "output_type": "stream",
          "name": "stdout",
          "text": [
            "0\n",
            "1\n",
            "2\n",
            "3\n",
            "4\n",
            "5\n",
            "6\n",
            "7\n",
            "8\n",
            "9\n",
            "10\n",
            "11\n",
            "12\n",
            "13\n",
            "14\n",
            "15\n",
            "16\n",
            "17\n",
            "18\n",
            "19\n"
          ]
        }
      ]
    },
    {
      "cell_type": "code",
      "source": [
        "# We can use these concepts to GENERATE POSITIONS that increase quadratically with time\n",
        "# In math this written as y = A*x^2, in our application it is x = A*t^2 (x is position)\n",
        "# A is a constant with units of m/s^2.\n",
        "\n",
        "time_list = range(0, 20)\n",
        "A = 2 # Let A = 2 m/s^2\n",
        "for t in time_list:\n",
        "  x = A * t**2\n",
        "  print(x)"
      ],
      "metadata": {
        "id": "B0I9cMg6YZf7",
        "colab": {
          "base_uri": "https://localhost:8080/"
        },
        "outputId": "33346a5c-7444-4f5e-cd41-2da1c7085db4"
      },
      "execution_count": null,
      "outputs": [
        {
          "output_type": "stream",
          "name": "stdout",
          "text": [
            "0\n",
            "2\n",
            "8\n",
            "18\n",
            "32\n",
            "50\n",
            "72\n",
            "98\n",
            "128\n",
            "162\n",
            "200\n",
            "242\n",
            "288\n",
            "338\n",
            "392\n",
            "450\n",
            "512\n",
            "578\n",
            "648\n",
            "722\n"
          ]
        }
      ]
    },
    {
      "cell_type": "code",
      "source": [
        "# You can use the append() method with the previous code to create a list of positions\n",
        "\n",
        "time_list = range(0, 20)\n",
        "position_list = []  # Here we initialize an array variable with an undefined number of elements, and with unknown values.\n",
        "A = 2 # Let A = 2 m/s^2\n",
        "for t in time_list:\n",
        "  x = A * t**2 #// This definition of \"x\" squares the time value found in \"time_list\" and mulitiplys that by the variable \"A\" (2m/s^2) //\n",
        "  position_list.append(x)\n",
        "\n",
        "print(position_list)\n",
        "\n",
        "#// The position and time list defined within this code block is what we will be using in Exercise #2 below. //"
      ],
      "metadata": {
        "id": "Yp5EJ3yhasdp",
        "colab": {
          "base_uri": "https://localhost:8080/"
        },
        "outputId": "9e10ef3e-5d91-4142-f584-a86152e9e4a5"
      },
      "execution_count": null,
      "outputs": [
        {
          "output_type": "stream",
          "name": "stdout",
          "text": [
            "[0, 2, 8, 18, 32, 50, 72, 98, 128, 162, 200, 242, 288, 338, 392, 450, 512, 578, 648, 722]\n"
          ]
        }
      ]
    },
    {
      "cell_type": "code",
      "source": [
        "# This code block uses the plot commands to graph the new \"position/time\" values obtained from the codeblock above.\n",
        "\n",
        "pretty_plot = pd.Series(position_list, index=time_list)\n",
        "pretty_plot.plot(xlabel='time (seconds)', ylabel='position (meters)', xlim=(0,20))"
      ],
      "metadata": {
        "colab": {
          "base_uri": "https://localhost:8080/",
          "height": 296
        },
        "id": "nuxQF97kbT_l",
        "outputId": "01901d85-34c0-4431-9f8e-e4594e22b436"
      },
      "execution_count": null,
      "outputs": [
        {
          "output_type": "execute_result",
          "data": {
            "text/plain": [
              "<matplotlib.axes._subplots.AxesSubplot at 0x7f21dcf63ee0>"
            ]
          },
          "metadata": {},
          "execution_count": 20
        },
        {
          "output_type": "display_data",
          "data": {
            "text/plain": [
              "<Figure size 432x288 with 1 Axes>"
            ],
            "image/png": "[encoded data removed]"
          },
          "metadata": {
            "needs_background": "light"
          }
        }
      ]
    },
    {
      "cell_type": "markdown",
      "source": [
        "# Exercise 2\n",
        "\n",
        "Following the rules of calculus, the derivative of position with respect to time is:\n",
        "\n",
        "$$\n",
        "\\frac{d\\vec{x}}{dt} = \\frac{d(A t^2)}{dt} = 2At \\, .\n",
        "$$\n",
        "\n",
        "Since we decided that $A$ = 2 m/s$^2$, \n",
        "\n",
        "$$\n",
        "\\vec{v} = \\frac{d\\vec{x}}{dt} = 4 \\rm{m/s}^2 \\, t \\, .\n",
        "$$\n",
        "\n",
        "Notice that, since the units of time are seconds, the units of our derivative are meters per second, as expected from a velocity. Notice also that the velocity is a function of the time, so you could write it as $ \\vec{v}(t) = 4 \\rm{m/s}^2 \\, t $. The longer you let your object go, the faster it will be moving at the end. Another way to say this is that the object is *accelerating*.\n",
        "\n",
        "Analytically, the velocity of the object at 9.25 seconds is:\n",
        "$$\n",
        "\\vec{v}(9.25\\rm{s}) = 4.00 \\rm{m/s}^2 \\, \\times 9.25\\rm{s} = 37.00 \\rm{m/s}\n",
        "$$\n",
        "\n",
        "1. Run the code below, which calculates the velocity between a given change in position and change in time. Then play around with the selected elements until you find a pair that gets close to t = 9.25 seconds. What is the velocity and how does it compare to the analytical velocity?\n",
        "2. Repeat Exercise 2.1 but now using the 'finer' position list and time list. Can you get closer to t = 9.25 seconds? What is the velocity and how does it compare to the analytical velocity?"
      ],
      "metadata": {
        "id": "OpCWH8S3cLt6"
      }
    },
    {
      "cell_type": "code",
      "source": [
        "# The following code selects the 5th element in the position list as the final position\n",
        "# and the 4th element in the position list as the initial position\n",
        "# Then it selects the 5th and 4th elements in the time list as the initial and final times\n",
        "# Finally, it calculates the velocity using the selected positions and times\n",
        "# Notice that in order to be correct, the elements selected as final and initial in the\n",
        "# position and time lists must be the same \n",
        "\n",
        "final_position = position_list[5]\n",
        "initial_position = position_list[4]\n",
        "\n",
        "final_time = time_list[5]\n",
        "initial_time = time_list[4]\n",
        "\n",
        "velocity = calculate_velocity(final_position, initial_position, final_time, initial_time) #// definition of velocity //\n",
        "\n",
        "print('final position:', final_position, 'meters')    #// Print output statements //\n",
        "print('initial position:', initial_position, 'meters')\n",
        "print()\n",
        "print('final time:', final_time, 'seconds')\n",
        "print('initial time:', initial_time, 'seconds')\n",
        "print()\n",
        "print('velocity in interval:', velocity, 'meters per second')"
      ],
      "metadata": {
        "id": "COPKWjcvbufn",
        "colab": {
          "base_uri": "https://localhost:8080/"
        },
        "outputId": "89f71951-0a5b-493b-ae17-42b153faeb26"
      },
      "execution_count": null,
      "outputs": [
        {
          "output_type": "stream",
          "name": "stdout",
          "text": [
            "final position: 50 meters\n",
            "initial position: 32 meters\n",
            "\n",
            "final time: 5 seconds\n",
            "initial time: 4 seconds\n",
            "\n",
            "velocity in interval: 18.0 meters per second\n"
          ]
        }
      ]
    },
    {
      "cell_type": "code",
      "source": [
        "# Select other elements from the position and time lists and get as close as \n",
        "# possible to time = 9.25 seconds\n",
        "\n",
        "final_position = position_list[5] # change the element number \n",
        "initial_position = position_list[4] # this one too\n",
        "\n",
        "final_time = time_list[5] # make sure element numbers are the same\n",
        "initial_time = time_list[4] # as for the positions\n",
        "\n",
        "velocity = calculate_velocity(final_position, initial_position, final_time, initial_time)\n",
        "\n",
        "print('final position:', final_position, 'meters')\n",
        "print('initial position:', initial_position, 'meters')\n",
        "print()\n",
        "print('final time:', final_time, 'seconds')\n",
        "print('initial time:', initial_time, 'seconds')\n",
        "print()\n",
        "print('velocity in interval:', velocity, 'meters per second')"
      ],
      "metadata": {
        "id": "CUUA_wANjplf",
        "colab": {
          "base_uri": "https://localhost:8080/"
        },
        "outputId": "1cbda9ad-f9fa-4a01-b422-48714bc0f247"
      },
      "execution_count": null,
      "outputs": [
        {
          "output_type": "stream",
          "name": "stdout",
          "text": [
            "final position: 50 meters\n",
            "initial position: 32 meters\n",
            "\n",
            "final time: 5 seconds\n",
            "initial time: 4 seconds\n",
            "\n",
            "velocity in interval: 18.0 meters per second\n"
          ]
        }
      ]
    },
    {
      "cell_type": "code",
      "source": [
        "# The following code computes the same velocity function as before, but with more elements\n",
        "# giving you a better 'resolution'\n",
        "# You don't need to understand it a this point, but I plotted the function to convince you\n",
        "# that it is the same as before\n",
        "\n",
        "time_list_finer = []\n",
        "position_list_finer = []\n",
        "A = 2 # Let A = 2 m/s^2\n",
        "for t_finer in range(0, 40):\n",
        "  t = t_finer * 0.5\n",
        "  x = A * t**2\n",
        "  position_list_finer.append(x)\n",
        "  time_list_finer.append(t)\n",
        "\n",
        "pretty_plot_finer = pd.Series(position_list_finer, index=time_list_finer)\n",
        "pretty_plot_finer.plot(xlabel='time (seconds)', ylabel='position (meters)', xlim=(0,20))"
      ],
      "metadata": {
        "id": "tLxdRCdOlz-Q",
        "colab": {
          "base_uri": "https://localhost:8080/",
          "height": 296
        },
        "outputId": "fcdd6af5-d147-48ef-aee6-6f64806efda0"
      },
      "execution_count": null,
      "outputs": [
        {
          "output_type": "execute_result",
          "data": {
            "text/plain": [
              "<matplotlib.axes._subplots.AxesSubplot at 0x7f21dca6f760>"
            ]
          },
          "metadata": {},
          "execution_count": 23
        },
        {
          "output_type": "display_data",
          "data": {
            "text/plain": [
              "<Figure size 432x288 with 1 Axes>"
            ],
            "image/png": "[encoded data removed]"
          },
          "metadata": {
            "needs_background": "light"
          }
        }
      ]
    },
    {
      "cell_type": "code",
      "source": [
        "# Select other elements from the position and time lists and get as close as \n",
        "# possible to time = 9.25 seconds\n",
        "\n",
        "final_position = position_list_finer[5] # change the element number \n",
        "initial_position = position_list_finer[4] # this one too\n",
        "\n",
        "final_time = time_list_finer[5] # make sure element numbers are the same\n",
        "initial_time = time_list_finer[4] # as for the positions\n",
        "\n",
        "velocity = calculate_velocity(final_position, initial_position, final_time, initial_time)\n",
        "\n",
        "print('final position:', final_position, 'meters')\n",
        "print('initial position:', initial_position, 'meters')\n",
        "print()\n",
        "print('final time:', final_time, 'seconds')\n",
        "print('initial time:', initial_time, 'seconds')\n",
        "print()\n",
        "print('velocity in interval:', velocity, 'meters per second')"
      ],
      "metadata": {
        "id": "8W7PMxDBojPX",
        "colab": {
          "base_uri": "https://localhost:8080/"
        },
        "outputId": "5d9aec83-97b9-4ad6-97d1-a4d5dbd7200c"
      },
      "execution_count": null,
      "outputs": [
        {
          "output_type": "stream",
          "name": "stdout",
          "text": [
            "final position: 12.5 meters\n",
            "initial position: 8.0 meters\n",
            "\n",
            "final time: 2.5 seconds\n",
            "initial time: 2.0 seconds\n",
            "\n",
            "velocity in interval: 9.0 meters per second\n"
          ]
        }
      ]
    },
    {
      "cell_type": "code",
      "source": [],
      "metadata": {
        "id": "BjiwX8I3p01l"
      },
      "execution_count": null,
      "outputs": []
    }
  ]
}