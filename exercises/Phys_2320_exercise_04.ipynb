{
  "nbformat": 4,
  "nbformat_minor": 0,
  "metadata": {
    "colab": {
      "provenance": [],
      "include_colab_link": true
    },
    "kernelspec": {
      "name": "python3",
      "display_name": "Python 3"
    },
    "language_info": {
      "name": "python"
    }
  },
  "cells": [
    {
      "cell_type": "markdown",
      "metadata": {
        "id": "view-in-github",
        "colab_type": "text"
      },
      "source": [
        "<a href=\"https://colab.research.google.com/github/jamunozlab/introductory_mechanics_spring_2023/blob/main/exercises/Phys_2320_exercise_04.ipynb\" target=\"_parent\"><img src=\"https://colab.research.google.com/assets/colab-badge.svg\" alt=\"Open In Colab\"/></a>"
      ]
    },
    {
      "cell_type": "code",
      "source": [
        "# Previously, you computed the following: "
      ],
      "metadata": {
        "id": "T7jj9JvDcJp4"
      },
      "execution_count": 10,
      "outputs": []
    },
    {
      "cell_type": "code",
      "source": [
        "import pandas as pd #Import pandas package as \"pd\""
      ],
      "metadata": {
        "id": "yRG2iArEfrQG"
      },
      "execution_count": 11,
      "outputs": []
    },
    {
      "cell_type": "code",
      "execution_count": 12,
      "metadata": {
        "id": "aL2syiTfr0Vd"
      },
      "outputs": [],
      "source": [
        "A = 4   \n",
        "B = -5 \n",
        "C = 3  \n",
        "\n",
        "time = 0\n",
        "resolution = 0.01 # Δt\n",
        "time_list = []    #Declare empty array  \"time_list\"\n",
        "acceleration_list = [] # Declare empty array variable \"acceleration list\"\n",
        "while time < 2.0: # WHILE LOOP, if \"time\" is LESS THAN 2, do this:\n",
        "  time_list.append(time) # APPENED TIME LIST\n",
        "  acceleration_list.append((lambda t: A*t**2 + B*t + C)(time)) # APPEND \"acceleration_list\" with the solution to the function \"f(t) = 4t^2 + (-5)t+(3) \n",
        "  time = time + resolution # INCREMENT TIME BY RESOLUTION                                                                     \n",
        "\n",
        "acceleration_vs_time = pd.Series(acceleration_list, index=time_list) # DEFINE A TWO COLUMN ARRAY VARIABLE CONSISTING OF ACCEL/TIME.\n",
        "                                                                     # This two column arrray variable will allow  us to store and graph our data later using \"pandas\"\n",
        "#// This \"while loop\" first computes the acceleration at time(t = 0) using the \"lamba\" function defined initially as: f(t)= 4(0)^2 + (-5)(0)+(3) => 3.\n",
        "# Once that acceleration has been computed, that value is then appended to the array variable \"acceleration_list\",\n",
        "# Finally the \"time\" variable is incremented by the resolution \"0.1\", just before the loop interates itselt again.\n",
        "\n",
        "# This \"while loop\" iterates a total of 200 times from t=0 to t=1.99 until the LOOP EXIT CONDITION (while time < 2.0) is met. //"
      ]
    },
    {
      "cell_type": "code",
      "source": [
        "# Now, let's plot our acceleration/time data\n",
        "\n",
        "acceleration_vs_time.plot(xlabel = \"Time (s)\", ylabel = \"acceleration (m/s^2)\", xlim=(0, 2), ylim=(0, acceleration_vs_time.max() + 1))"
      ],
      "metadata": {
        "colab": {
          "base_uri": "https://localhost:8080/",
          "height": 296
        },
        "id": "717JR9QJffjl",
        "outputId": "df8615b5-b245-41ad-aca7-ee9f54b1cf64"
      },
      "execution_count": 13,
      "outputs": [
        {
          "output_type": "execute_result",
          "data": {
            "text/plain": [
              "<matplotlib.axes._subplots.AxesSubplot at 0x7fbd47088f70>"
            ]
          },
          "metadata": {},
          "execution_count": 13
        },
        {
          "output_type": "display_data",
          "data": {
            "text/plain": [
              "<Figure size 432x288 with 1 Axes>"
            ],
            "image/png": "[encoded data removed]"
          },
          "metadata": {
            "needs_background": "light"
          }
        }
      ]
    },
    {
      "cell_type": "code",
      "source": [
        "# Newton's second law states that F=ma, so F/m=a\n",
        "# If the mass of the object being accelerated is 2 kg, the force neccessary\n",
        "# to accelerate is the object is the acceleration from the plot above times the mass (2 kg)"
      ],
      "metadata": {
        "id": "bNUmymV4WeeJ"
      },
      "execution_count": 14,
      "outputs": []
    },
    {
      "cell_type": "code",
      "source": [
        "A = 4\n",
        "B = -5\n",
        "C = 3\n",
        "\n",
        "mass = 2 #kg (Notice this) \n",
        "time = 0\n",
        "resolution = 0.01\n",
        "time_list = []\n",
        "acceleration_list = []\n",
        "force_list = [] # (Notice this)\n",
        "while time < 2.0:\n",
        "  time_list.append(time)\n",
        "  acceleration_list.append((lambda x: A*x**2 + B*x + C)(time)) # This function propigates our acceleration list at each timestep\n",
        "  force_list.append(mass * (lambda x: A*x**2 + B*x + C)(time)) # This function multiplies the mass times the acceleration at each timestep to solve for force required. \n",
        "  time = time + resolution \n",
        "\n",
        "force_vs_time = pd.Series(force_list, index=time_list) #store force and time data into two column array\n",
        "\n",
        "# Upon inspection of this code cell, you'll find that this code accompllishes the same goal as the one above (propigate an acceleration list) with the added capability of \n",
        "# computing for \"Force Required\" for each value of acceleration, and appending the results to the array variable \"force_list\" //"
      ],
      "metadata": {
        "id": "rz9O1mBAXmR5"
      },
      "execution_count": 15,
      "outputs": []
    },
    {
      "cell_type": "code",
      "source": [
        "#Now, let's plot our Force/Time data\n",
        "\n",
        "force_vs_time.plot(xlabel = \"Time (s)\", ylabel = \"force (N)\", xlim=(0, 2), ylim=(0, force_vs_time.max() + 1))"
      ],
      "metadata": {
        "colab": {
          "base_uri": "https://localhost:8080/",
          "height": 296
        },
        "id": "VihtFd8FYLuB",
        "outputId": "e556740e-a684-4385-d6e2-8f6e7aeac6e9"
      },
      "execution_count": 16,
      "outputs": [
        {
          "output_type": "execute_result",
          "data": {
            "text/plain": [
              "<matplotlib.axes._subplots.AxesSubplot at 0x7fbd4700d6a0>"
            ]
          },
          "metadata": {},
          "execution_count": 16
        },
        {
          "output_type": "display_data",
          "data": {
            "text/plain": [
              "<Figure size 432x288 with 1 Axes>"
            ],
            "image/png": "[encoded data removed]"
          },
          "metadata": {
            "needs_background": "light"
          }
        }
      ]
    },
    {
      "cell_type": "code",
      "source": [
        "# Let's play around with the mass\n",
        "# In the cell below, CHANGE THE VALUE OF THE MASS to 5 kg, 10 kg, and 50 kg\n",
        "# Then answer the questions below"
      ],
      "metadata": {
        "id": "1XHwIbSpcwHn"
      },
      "execution_count": 17,
      "outputs": []
    },
    {
      "cell_type": "code",
      "source": [
        "A = 4\n",
        "B = -5\n",
        "C = 3\n",
        "\n",
        "mass = 5 #kg (CHANGE THIS)\n",
        "time = 0\n",
        "resolution = 0.01\n",
        "time_list = []\n",
        "acceleration_list = []\n",
        "force_list = [] \n",
        "while time < 2.0:\n",
        "  time_list.append(time)\n",
        "  acceleration_list.append((lambda x: A*x**2 + B*x + C)(time))\n",
        "  force_list.append(mass * (lambda x: A*x**2 + B*x + C)(time)) \n",
        "  time = time + resolution\n",
        "\n",
        "force_vs_time = pd.Series(force_list, index=time_list)\n",
        "force_vs_time.plot(xlabel = \"Time (s)\", ylabel = \"force (N)\", xlim=(0, 2), ylim=(0, force_vs_time.max() + 1))"
      ],
      "metadata": {
        "colab": {
          "base_uri": "https://localhost:8080/",
          "height": 296
        },
        "id": "PVkkzqV8Yg3l",
        "outputId": "2cf0295d-c101-4143-ac36-cd09e4f2318c"
      },
      "execution_count": 18,
      "outputs": [
        {
          "output_type": "execute_result",
          "data": {
            "text/plain": [
              "<matplotlib.axes._subplots.AxesSubplot at 0x7fbd46fcf2e0>"
            ]
          },
          "metadata": {},
          "execution_count": 18
        },
        {
          "output_type": "display_data",
          "data": {
            "text/plain": [
              "<Figure size 432x288 with 1 Axes>"
            ],
            "image/png": "[encoded data removed]"
          },
          "metadata": {
            "needs_background": "light"
          }
        }
      ]
    },
    {
      "cell_type": "markdown",
      "source": [
        "# Exercises\n",
        "\n",
        "1. What is the relationship between the plot of the acceleration vs. time and the plot of the force vs. time plot?\n",
        "2. How does the shape of the force vs. time plot change when you change the mass, but keep the acceleration constant?\n",
        "3. Do you need more or less force to accelerate a more massive object at the same rate as a less massive object? \n",
        "4. What is the change in velocity if the acceleration is zero? What is the force you need to achieve this? "
      ],
      "metadata": {
        "id": "NDpKYZbUgit0"
      }
    }
  ]
}