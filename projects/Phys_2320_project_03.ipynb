{
  "nbformat": 4,
  "nbformat_minor": 0,
  "metadata": {
    "colab": {
      "provenance": [],
      "authorship_tag": "ABX9TyPiOUq7D3esLAfZH6wB/qyJ",
      "include_colab_link": true
    },
    "kernelspec": {
      "name": "python3",
      "display_name": "Python 3"
    },
    "language_info": {
      "name": "python"
    }
  },
  "cells": [
    {
      "cell_type": "markdown",
      "metadata": {
        "id": "view-in-github",
        "colab_type": "text"
      },
      "source": [
        "<a href=\"https://colab.research.google.com/github/jamunozlab/introductory_mechanics_spring_2023/blob/main/projects/Phys_2320_project_03.ipynb\" target=\"_parent\"><img src=\"https://colab.research.google.com/assets/colab-badge.svg\" alt=\"Open In Colab\"/></a>"
      ]
    },
    {
      "cell_type": "markdown",
      "source": [
        "In the past few weeks, Jorginho has been disciplined enough and following the training program the profesionals at your company Physics Physical LLC have designed for him. He is close to attaining the times your company requested of him: photographic evidence is located [here](https://github.com/jamunozlab/introductory_mechanics_fall_2022/blob/main/projects/Ph_2320_P3_data.ipynb) and is summarized below.\n",
        "\n",
        "\n",
        "\n",
        "```\n",
        "# Date         # Starting speed   # Predicted time    # Actual time\n",
        "# 9/4/22         6.1 mph            53:45 min:sec       53:23 min:sec\n",
        "# 9/11/22        6.2 mph            52:59 min:sec       53:01 min:sec\n",
        "# 9/18/22        6.3 mph            52:16 min:sec       52:33 min:sec\n",
        "# 9/25/22        6.4 mph            51:35 min:sec       52:04 min:sec\n",
        "# 10/2/22        6.5 mph            50:58 min:sec       51:21 min:sec\n",
        "# 10/9/22        6.6 mph            50:23 min:sec \n",
        "# 10/16/22       6.7 mph            49:51 min:sec\n",
        "# 10/25/22       <-- Race day (real deal)\n",
        "```\n",
        "\n"
      ],
      "metadata": {
        "id": "QRCJfTN2XCyC"
      }
    },
    {
      "cell_type": "markdown",
      "source": [
        "Nevertheless, Jorginho is complaining that even though he followed the running program closely on 9/18, 9/25, and 10/2, his times are not quite the same you had predicted. You suddendly remember that wikipedia article about [reductionism](https://en.wikipedia.org/wiki/Reductionism) that says: ``reductionist thinking and methods form the basis for many of the well-developed topics of modern science, including much of physics, chemistry and molecular biology. Classical mechanics in particular is seen as a reductionist framework.'' Although you are not sure about ontological reductionism (a belief that the whole of reality consists of a minimal number of parts), methodological reductionism (the scientific attempt to provide an explanation in terms of ever-smaller entities) has proved its worth in science and technology. You have seen how GPS data, collected every second, can be used in the same way as the $\\vec{x}(t)$ kinematic equation. In particular, you are suspicious of the assumption that the treadmill increases its velocity infinitely fast. You decide to do a dynamics simulation to improve your predictions."
      ],
      "metadata": {
        "id": "ombOVxze5qb6"
      }
    },
    {
      "cell_type": "markdown",
      "source": [
        "Evaluate the following  cells"
      ],
      "metadata": {
        "id": "5pk1IhUk-xu4"
      }
    },
    {
      "cell_type": "code",
      "source": [
        "# Some packages to make our lives easy and print pretty plots\n",
        "import numpy as np\n",
        "import pandas as pd\n",
        "pd.options.plotting.backend = \"plotly\""
      ],
      "metadata": {
        "id": "1eR5QNRZcQEG"
      },
      "execution_count": null,
      "outputs": []
    },
    {
      "cell_type": "code",
      "source": [
        "# This function takes a running program, which consists of a list of positions\n",
        "# and a list of velocities for the treadmill corresponding to the positions in the list\n",
        "# It also takes a distance and a velocity\n",
        "# It returns 'True' if the velocity is correct for that distance according to the program\n",
        "# It returns 'False' otherwise\n",
        "# In every case, it also returns the velocity that the treadmill should have for that distance\n",
        "\n",
        "def check_correct_speed(distance, velocity, position_list, velocity_list):\n",
        "  for i in range(len(position_list)):\n",
        "    if distance >= position_list[i] and distance < position_list[i+1]: break\n",
        "\n",
        "  correct = True if np.isclose(velocity, velocity_list[i], atol=1e-1) else False\n",
        "  return correct, velocity_list[i]"
      ],
      "metadata": {
        "id": "2kyyyjZ6eZpW"
      },
      "execution_count": null,
      "outputs": []
    },
    {
      "cell_type": "code",
      "source": [
        "#####################\n",
        "## Running Program ##\n",
        "##################### \n",
        "\n",
        "# This is a running program like the one you built in Project 1\n",
        "position_list = [0, 1/3, 2/3, 3/3, 4/3, 5/3, 6/3, 7/3, 8/3, 9/3, 10/3, 11/3, 12/3, 13/3, 14/3, 15/3, 16/3, 17/3, 18/3, 19/3]\n",
        "velocity_list = [   6.5, 6.6, 6.7, 6.8, 6.9, 7.0, 7.1, 7.2, 7.3,  7.4,  7.5, 7.6,   7.7,  7.8,  7.9,  8.0,  8.0,  8.0,  8.0]\n",
        "\n",
        "# For convenience, we are moving to SI (1 mile is 1609 meters and 1 hour is 3600 seconds)\n",
        "position_list_m = [position * (1609) for position in position_list]\n",
        "velocity_list_m = [velocity * (1609/3600) for velocity in velocity_list]"
      ],
      "metadata": {
        "id": "JG2YD4F3l0V5"
      },
      "execution_count": null,
      "outputs": []
    },
    {
      "cell_type": "code",
      "source": [
        "# And you can tell everybody this is your code\n",
        "# it might be quite simple, but now that is done\n",
        "# I hope you don't mind, I hope you don't mind\n",
        "# That I put down in code\n",
        "# How wonderful life is while you're in the world \n",
        "\n",
        "you_re_in_the_world = True\n",
        "while you_re_in_the_world:\n",
        "  print('How wonderful life is')\n",
        "  if 0 == np.random.randint(100): you_re_in_the_world = False\n",
        "\n",
        "print('):')"
      ],
      "metadata": {
        "id": "-DDob8MTBt7F"
      },
      "execution_count": null,
      "outputs": []
    },
    {
      "cell_type": "code",
      "source": [
        "#########################\n",
        "## Dynamics Simulation ##\n",
        "######################### \n",
        "\n",
        "# Sorry about that diversion, here is the actual code\n",
        "# It is not super robust, for example the acceleration can only be positive and not zero\n",
        "# It should be relatively small (less than 0.5 m/s^2 or so)\n",
        "# Don't use crazy-long decimal numbers \n",
        "# You can change it below, the acceleration is only 'on' when the velocity should be increased\n",
        "acceleration_when_on = 0.01 # m/s^2\n",
        "\n",
        "# I recommend that you do not change the values below  \n",
        "# delta_time tells the code how often to check/update variables (currently every 1 second) \n",
        "# the other variables are initialized with their initial values (duh!)\n",
        "delta_time = 1\n",
        "distance = 0\n",
        "velocity = 0\n",
        "time = 0\n",
        "\n",
        "# This is where we are going to save our dynamics data\n",
        "actual_time_list = []\n",
        "actual_distance_list = []\n",
        "actual_velocity_list = []\n",
        "actual_acceleration_list = []\n",
        "\n",
        "while True:\n",
        "  # Below you have your friend the kinematic equation for position vs time\n",
        "  # The distance is updated every time this code runs (so every second)\n",
        "  distance = distance + velocity * delta_time + (1/2) * acceleration_when_on * delta_time**2\n",
        "  \n",
        "  # This will check whether the velocity of the treadmill corresponds to the velocity it should have\n",
        "  # according to your running program \n",
        "  # It also gives you what that velocity should be \n",
        "  check_correct, velocity_should_be = check_correct_speed(distance, velocity, position_list_m, velocity_list_m)\n",
        "\n",
        "  # If the velocity is correct, then nothing happens, the velocity is maintained\n",
        "  # If the velocity is incorrect, then it turns on the acceleration, so the velocity increases\n",
        "  acceleration = 0 if check_correct else acceleration_when_on\n",
        "\n",
        "  # Below you have your friend the kinematic equation for velocity vs time\n",
        "  # Although if put it in an if/else statement so that I can give it the velocity it should be\n",
        "  # This helps avoid the accumulation of small errors, so it is a bit of a trick\n",
        "  velocity = velocity + acceleration * delta_time if not check_correct else velocity_should_be\n",
        "\n",
        "  # The line below will check if the distance has reached 10,000 meters (a 10K)\n",
        "  # If yes, break the while loop, Jorginho is done; if no, just continue for 1 more second\n",
        "  if distance > 10000: break\n",
        "\n",
        "  # This prints out time, distance, velocity, and acceleration for each second\n",
        "  print('| time (seconds):', time, '| distance (meters):', distance, '| velocity (m/s):', velocity, '| acceleration (m/s^2):', acceleration, '|')\n",
        "  \n",
        "  # This updates the time so that in the next iteration the time has advanced by 1 second\n",
        "  time = time + 1\n",
        "\n",
        "  # This is just so that we can put the data in an easy to manipulate format\n",
        "  actual_time_list.append(time)\n",
        "  actual_distance_list.append(distance)\n",
        "  actual_velocity_list.append(velocity)\n",
        "  actual_acceleration_list.append(acceleration)\n",
        "\n",
        "# Gives last bit of information, the time it took Jorginho to actually run the 10k given you program\n",
        "# and the limitations of the treadmill\n",
        "print()\n",
        "print('Total time was:', time, 'seconds')\n",
        "print('Total time was:', int(time/60), 'minutes and', np.round((time/60 - int(time/60)) * 60), 'seconds')"
      ],
      "metadata": {
        "id": "Fg95VHmyjU8k"
      },
      "execution_count": null,
      "outputs": []
    },
    {
      "cell_type": "code",
      "source": [
        "# Prettyfy\n",
        "df_dict = {}\n",
        "df_dict['distance'] = pd.Series(actual_distance_list, index=actual_time_list)\n",
        "df_dict['velocity'] = pd.Series(actual_velocity_list, index=actual_time_list)\n",
        "df_dict['acceleration'] = pd.Series(actual_acceleration_list, index=actual_time_list)\n",
        "df = pd.DataFrame(df_dict)"
      ],
      "metadata": {
        "id": "FQ0diVIRCsKp"
      },
      "execution_count": null,
      "outputs": []
    },
    {
      "cell_type": "code",
      "source": [
        "# Plot distance vs time\n",
        "df['distance'].plot()"
      ],
      "metadata": {
        "id": "5HzA99EMGVne"
      },
      "execution_count": null,
      "outputs": []
    },
    {
      "cell_type": "code",
      "source": [
        "# Plot velocity vs time\n",
        "df['velocity'].plot()"
      ],
      "metadata": {
        "id": "yfHhWxqQtjnp"
      },
      "execution_count": null,
      "outputs": []
    },
    {
      "cell_type": "code",
      "source": [
        "# Plot acceleration vs time\n",
        "df['acceleration'].plot()"
      ],
      "metadata": {
        "id": "beFEhMdhtrdj"
      },
      "execution_count": null,
      "outputs": []
    },
    {
      "cell_type": "code",
      "source": [
        "# Plot velocity vs position\n",
        "df.plot(x='distance', y='velocity')"
      ],
      "metadata": {
        "id": "YaVILrk4uZyk"
      },
      "execution_count": null,
      "outputs": []
    },
    {
      "cell_type": "markdown",
      "source": [
        "The running program for Jorginho for 10/2/2022 is the cell above marked as: \n",
        "\n",
        "```\n",
        "#####################\n",
        "## Running Program ##\n",
        "##################### \n",
        "```\n",
        "and the dynamics simulation is in the cell marked above as:\n",
        "```\n",
        "#########################\n",
        "## Dynamics Simulation ##\n",
        "######################### \n",
        "```\n",
        "\n",
        "Change the value of the variable `acceleration_when_on' and run the dynamics simulation. Also evaluate the cells that produce the plots. What value of the acceleration allows you to get a time as close as possible to Jorginho's actual time of 51:21? Write down your answer below. \n",
        "\n",
        "\n",
        "\n",
        "\n",
        "\n",
        "\n",
        "\n",
        "\n",
        "\n"
      ],
      "metadata": {
        "id": "_B8wp6fNH01F"
      }
    },
    {
      "cell_type": "code",
      "source": [
        "## ANSWER 1"
      ],
      "metadata": {
        "id": "N-zRw4eq1ilv"
      },
      "execution_count": null,
      "outputs": []
    },
    {
      "cell_type": "markdown",
      "source": [
        "Modify the running program so that it simulates Jorginho run for 9/26/2022, which he started at a speed of 6.4 mph. \n",
        "\n",
        "Change the value of the variable `acceleration_when_on' and run the dynamics simulation. Also evaluate the cells that produce the plots. What value of the acceleration allows you to get a time as close as possible to Jorginho's actual time of 52:04? Write down your answer below. "
      ],
      "metadata": {
        "id": "QqzMBaggKjag"
      }
    },
    {
      "cell_type": "code",
      "source": [
        "## ANSWER 2"
      ],
      "metadata": {
        "id": "mDJgql68LMjJ"
      },
      "execution_count": null,
      "outputs": []
    },
    {
      "cell_type": "markdown",
      "source": [
        "Analyze the plots produced using your simulation data. What are the assumptions in your Project 1 code that are not valid or completely correct? Have they been corrected or ameliorated in this version of the code? What can you do to improve your predictions further? "
      ],
      "metadata": {
        "id": "4pk8_ZbnLPQU"
      }
    },
    {
      "cell_type": "code",
      "source": [
        "## ANSWER 3"
      ],
      "metadata": {
        "id": "ND9DFoREMuu6"
      },
      "execution_count": null,
      "outputs": []
    },
    {
      "cell_type": "markdown",
      "source": [
        "The good thing about running faster is that you finish sooner. Looking at the data generated by your simulation for Jorginho's 9/26/2022 run. Divide the total distance in 2.  What was his time for the first half (distance-wise) and for the second one? Now divide the total time in 2. What distance did he run during the first half (time-wise) and during the second one? "
      ],
      "metadata": {
        "id": "hSLWaOFnNt79"
      }
    },
    {
      "cell_type": "code",
      "source": [
        "## ANSWER 4"
      ],
      "metadata": {
        "id": "tVSc59OGOfxA"
      },
      "execution_count": null,
      "outputs": []
    }
  ]
}